{
 "cells": [
  {
   "cell_type": "code",
   "execution_count": 1,
   "metadata": {},
   "outputs": [
    {
     "data": {
      "text/html": [
       "\n",
       "                <script type=\"application/javascript\" id=\"jupyter_black\">\n",
       "                (function() {\n",
       "                    if (window.IPython === undefined) {\n",
       "                        return\n",
       "                    }\n",
       "                    var msg = \"WARNING: it looks like you might have loaded \" +\n",
       "                        \"jupyter_black in a non-lab notebook with \" +\n",
       "                        \"`is_lab=True`. Please double check, and if \" +\n",
       "                        \"loading with `%load_ext` please review the README!\"\n",
       "                    console.log(msg)\n",
       "                    alert(msg)\n",
       "                })()\n",
       "                </script>\n",
       "                "
      ],
      "text/plain": [
       "<IPython.core.display.HTML object>"
      ]
     },
     "metadata": {},
     "output_type": "display_data"
    }
   ],
   "source": [
    "from youtube_transcript_api import YouTubeTranscriptApi\n",
    "from youtube_transcript_api.formatters import TextFormatter\n",
    "import jupyter_black\n",
    "import instructor\n",
    "from pydantic import BaseModel, Field\n",
    "from openai import OpenAI\n",
    "from enum import Enum\n",
    "\n",
    "jupyter_black.load()"
   ]
  },
  {
   "cell_type": "code",
   "execution_count": 2,
   "metadata": {},
   "outputs": [
    {
     "name": "stdout",
     "output_type": "stream",
     "text": [
      "Nicolas, better known as the\n",
      "running addict, recently broke his\n",
      "marathon record going from 2h37 which\n",
      "was already a good time to 2h33 how\n",
      "did he do what\n",
      "the training of someone who runs in\n",
      "2h33 looks like in detail  on marathon what has he  ....\n"
     ]
    }
   ],
   "source": [
    "formatter = TextFormatter()\n",
    "# video_id = \"3HyQ7Q-XVKA\"  # runwise podcast french\n",
    "# video_id = \"2_rfOfLYpXM\"  # planted runner english\n",
    "video_id = \"FhOr5RLt5HI\"  # prep running addict french\n",
    "\n",
    "\n",
    "def fetch_transcript(video_id: str, language_out: str = \"en\"):\n",
    "    available_languages = [\n",
    "        t.language_code for t in YouTubeTranscriptApi.list_transcripts(video_id)\n",
    "    ]\n",
    "    if language_out in available_languages:\n",
    "        transcript = YouTubeTranscriptApi.get_transcript(video_id)\n",
    "    else:\n",
    "        transcript = (\n",
    "            YouTubeTranscriptApi.list_transcripts(video_id)\n",
    "            .find_transcript(available_languages[0:1])\n",
    "            .translate(language_out)\n",
    "            .fetch()\n",
    "        )\n",
    "\n",
    "    return formatter.format_transcript(transcript)\n",
    "    # return transcript\n",
    "\n",
    "\n",
    "transcript = fetch_transcript(video_id=video_id)\n",
    "print(transcript[0:240], \"....\")"
   ]
  },
  {
   "cell_type": "code",
   "execution_count": 3,
   "metadata": {},
   "outputs": [],
   "source": [
    "class DataField(Enum):\n",
    "    HEART_RATE = \"HEART_RATE\"\n",
    "    PACE = \"PACE\"\n",
    "    DISTANCE = \"DISTANCE\"\n",
    "    DATE = \"DATE\"\n",
    "\n",
    "\n",
    "class Insight(BaseModel):\n",
    "    text: str = Field(description=\"The text of the insight\")\n",
    "    data_fields: list[DataField] = Field(\n",
    "        description=\"The data fields required to compute the insight for a given athlete\"\n",
    "    )\n",
    "\n",
    "\n",
    "class Insights(BaseModel):\n",
    "    insights: list[Insight]\n",
    "\n",
    "\n",
    "client = instructor.from_openai(OpenAI())\n",
    "\n",
    "instruction = f\"\"\"\n",
    "You are a running coach conducting research for your athletes. \n",
    "You have data regarding every one of your athletes (running activities, pace, heart rate, etc).\n",
    "Your goal is to analyze the following piece of text, and retrieve a list of insights.\n",
    "To every insight, you must specify the data fields required. \n",
    "\n",
    "Below is the piece of text you must analyze:\n",
    "===\n",
    "{transcript}\n",
    "===\n",
    "\"\"\".strip()\n",
    "\n",
    "insights = client.chat.completions.create(\n",
    "    model=\"gpt-3.5-turbo\",\n",
    "    response_model=Insights,\n",
    "    messages=[{\"role\": \"user\", \"content\": instruction}],\n",
    ")"
   ]
  },
  {
   "cell_type": "code",
   "execution_count": 4,
   "metadata": {},
   "outputs": [
    {
     "name": "stdout",
     "output_type": "stream",
     "text": [
      "Nicolas's marathon preparation focuses on gradual increase in average weekly volume and density of long outings to target a specific muscular limiting factor.\n",
      "[<DataField.DISTANCE: 'DISTANCE'>, <DataField.DISTANCE: 'DISTANCE'>, <DataField.DISTANCE: 'DISTANCE'>]\n",
      "====\n",
      "The use of Sweet Spot cycle in the preparation allows for intense stress without lasting too long, providing an alternative for targeting the limiting factor.\n",
      "[<DataField.DISTANCE: 'DISTANCE'>, <DataField.DISTANCE: 'DISTANCE'>, <DataField.DISTANCE: 'DISTANCE'>]\n",
      "====\n",
      "The management of fatigue in athletes includes progressive session intensities, session format adjustments, and prioritizing duration over intensity when necessary.\n",
      "[<DataField.PACE: 'PACE'>, <DataField.PACE: 'PACE'>, <DataField.PACE: 'PACE'>]\n",
      "====\n",
      "The analysis of performance standards throughout the preparation helps in projecting probabilities of success and adjusting training goals accordingly.\n",
      "[<DataField.PACE: 'PACE'>, <DataField.PACE: 'PACE'>, <DataField.PACE: 'PACE'>]\n",
      "====\n"
     ]
    }
   ],
   "source": [
    "for i in insights.insights:\n",
    "    print(i.text)\n",
    "    print(i.data_fields)\n",
    "    print(\"====\")"
   ]
  },
  {
   "cell_type": "code",
   "execution_count": null,
   "metadata": {},
   "outputs": [],
   "source": []
  }
 ],
 "metadata": {
  "kernelspec": {
   "display_name": ".env",
   "language": "python",
   "name": "python3"
  },
  "language_info": {
   "codemirror_mode": {
    "name": "ipython",
    "version": 3
   },
   "file_extension": ".py",
   "mimetype": "text/x-python",
   "name": "python",
   "nbconvert_exporter": "python",
   "pygments_lexer": "ipython3",
   "version": "3.11.9"
  }
 },
 "nbformat": 4,
 "nbformat_minor": 2
}
